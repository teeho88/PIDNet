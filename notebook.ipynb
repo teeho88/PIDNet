{
 "cells": [
  {
   "cell_type": "code",
   "execution_count": null,
   "metadata": {},
   "outputs": [],
   "source": [
    "import os\n",
    "import cv2\n",
    "from tqdm import tqdm\n",
    "\n",
    "path_labels = \"data\\\\Dataset_Lane_Segmentation-main\\\\trainanot\"\n",
    "cls_dataset = set()\n",
    "for f in tqdm(os.listdir(path_labels)):\n",
    "  img = cv2.imread(os.path.join(path_labels,f),cv2.IMREAD_COLOR)\n",
    "  cls_1_img = set(tuple(p) for p in img.reshape(-1,3).tolist())\n",
    "  cls_dataset = cls_dataset.union(cls_1_img)"
   ]
  },
  {
   "cell_type": "code",
   "execution_count": 8,
   "metadata": {},
   "outputs": [
    {
     "name": "stdout",
     "output_type": "stream",
     "text": [
      "{(2, 2, 2), (0, 0, 0), (1, 1, 1)}\n"
     ]
    }
   ],
   "source": [
    "print(cls_dataset)"
   ]
  },
  {
   "cell_type": "code",
   "execution_count": 42,
   "metadata": {},
   "outputs": [],
   "source": [
    "import os\n",
    "\n",
    "path_list = \"data\\list\\Dataset_Lane_Segmentation\"\n",
    "path_data = \"data\\Dataset_Lane_Segmentation\"\n",
    "os.makedirs(path_list, exist_ok = True)\n",
    "with open(os.path.join(path_list,\"train.lst\"), \"w+\") as lsFile:\n",
    "  lsFile.writelines([f\"train/{f} & trainanot/{f}\\n\" for f in os.listdir(os.path.join(path_data,\"train\"))])\n",
    "\n",
    "with open(os.path.join(path_list,\"test.lst\"), \"w+\") as lsFile:\n",
    "  lsFile.writelines([f\"val/{f} & valanot/{f}\\n\" for f in os.listdir(os.path.join(path_data,\"val\"))])"
   ]
  },
  {
   "cell_type": "code",
   "execution_count": null,
   "metadata": {},
   "outputs": [],
   "source": [
    "!python tools/train.py --cfg configs/camvid/pidnet_small_camvid.yaml"
   ]
  },
  {
   "cell_type": "code",
   "execution_count": 44,
   "metadata": {},
   "outputs": [],
   "source": [
    "img_list = [line.strip().split(' & ') for line in open(path_list+\"/train.lst\")]"
   ]
  },
  {
   "cell_type": "code",
   "execution_count": null,
   "metadata": {},
   "outputs": [],
   "source": [
    "for item in img_list:\n",
    "    print(item)\n",
    "    image_path, label_path = item"
   ]
  },
  {
   "cell_type": "code",
   "execution_count": 3,
   "metadata": {},
   "outputs": [
    {
     "name": "stdout",
     "output_type": "stream",
     "text": [
      "Attention!!!\n",
      "Loaded 453 parameters!\n",
      "Over!!!\n"
     ]
    }
   ],
   "source": [
    "!python tools/custom.py --a 'pidnet-s' --c False --p output/mydata/pidnet_small_camvid/best.pt --t '.png' --r data/Dataset_Lane_Segmentation/val"
   ]
  },
  {
   "cell_type": "code",
   "execution_count": null,
   "metadata": {},
   "outputs": [],
   "source": [
    "!tensorboard --logdir=log/mydata/pidnet_s"
   ]
  },
  {
   "cell_type": "code",
   "execution_count": 70,
   "metadata": {},
   "outputs": [],
   "source": []
  }
 ],
 "metadata": {
  "kernelspec": {
   "display_name": ".venv",
   "language": "python",
   "name": "python3"
  },
  "language_info": {
   "codemirror_mode": {
    "name": "ipython",
    "version": 3
   },
   "file_extension": ".py",
   "mimetype": "text/x-python",
   "name": "python",
   "nbconvert_exporter": "python",
   "pygments_lexer": "ipython3",
   "version": "3.7.7"
  },
  "orig_nbformat": 4,
  "vscode": {
   "interpreter": {
    "hash": "2acaec2745be91f63c5d12c67b191fbff34441e817370057d53bb7a149976f1a"
   }
  }
 },
 "nbformat": 4,
 "nbformat_minor": 2
}
